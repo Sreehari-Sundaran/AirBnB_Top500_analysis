{
 "cells": [
  {
   "cell_type": "code",
   "execution_count": null,
   "id": "cdc65deb-0b38-4e96-b3dc-152de8f2b439",
   "metadata": {},
   "outputs": [],
   "source": [
    "import pandas as pd"
   ]
  },
  {
   "cell_type": "code",
   "execution_count": null,
   "id": "7b0cbc8c-d4ea-4af8-a2e1-ce195f2669c4",
   "metadata": {},
   "outputs": [],
   "source": [
    "listings=pd.read_csv(\"Airbnb_India_Top_500.csv\")"
   ]
  },
  {
   "cell_type": "code",
   "execution_count": null,
   "id": "19a3befa-39f7-4f83-b48a-54ebf5044bc6",
   "metadata": {},
   "outputs": [],
   "source": [
    "listings.head()"
   ]
  },
  {
   "cell_type": "code",
   "execution_count": 7,
   "id": "0530f33f-c591-4e15-a510-5347ed28e2ee",
   "metadata": {},
   "outputs": [
    {
     "name": "stdout",
     "output_type": "stream",
     "text": [
      "<class 'pandas.core.frame.DataFrame'>\n",
      "RangeIndex: 500 entries, 0 to 499\n",
      "Data columns (total 9 columns):\n",
      " #   Column               Non-Null Count  Dtype  \n",
      "---  ------               --------------  -----  \n",
      " 0   address              500 non-null    object \n",
      " 1   isHostedBySuperhost  500 non-null    bool   \n",
      " 2   location/lat         500 non-null    float64\n",
      " 3   location/lng         500 non-null    float64\n",
      " 4   name                 500 non-null    object \n",
      " 5   numberOfGuests       500 non-null    int64  \n",
      " 6   pricing/rate/amount  500 non-null    int64  \n",
      " 7   roomType             500 non-null    object \n",
      " 8   stars                196 non-null    float64\n",
      "dtypes: bool(1), float64(3), int64(2), object(3)\n",
      "memory usage: 31.9+ KB\n"
     ]
    }
   ],
   "source": [
    "listings.info()"
   ]
  },
  {
   "cell_type": "code",
   "execution_count": 9,
   "id": "70760330-eeb3-4939-b3c4-977277c750d2",
   "metadata": {},
   "outputs": [
    {
     "data": {
      "text/plain": [
       "address                  0\n",
       "isHostedBySuperhost      0\n",
       "location/lat             0\n",
       "location/lng             0\n",
       "name                     0\n",
       "numberOfGuests           0\n",
       "pricing/rate/amount      0\n",
       "roomType                 0\n",
       "stars                  304\n",
       "dtype: int64"
      ]
     },
     "execution_count": 9,
     "metadata": {},
     "output_type": "execute_result"
    }
   ],
   "source": [
    "listings.isnull().sum()  #Sorting the null value"
   ]
  },
  {
   "cell_type": "code",
   "execution_count": 13,
   "id": "cdb17237-a8da-490e-aecf-72f309d3f9f9",
   "metadata": {},
   "outputs": [
    {
     "name": "stdout",
     "output_type": "stream",
     "text": [
      "Total Number of Guests in Top 500 AirBnB are  5780\n"
     ]
    }
   ],
   "source": [
    "#Sum of guests in the room\n",
    "total_guests = listings['numberOfGuests'].sum()\n",
    "print(\"Total Number of Guests in Top 500 AirBnB are \",total_guests)"
   ]
  },
  {
   "cell_type": "code",
   "execution_count": 17,
   "id": "e1d3f3c5-6009-4747-9ca9-3619b6cc02aa",
   "metadata": {},
   "outputs": [
    {
     "name": "stdout",
     "output_type": "stream",
     "text": [
      "Total Number of address are : 217\n"
     ]
    }
   ],
   "source": [
    "#to obtain total number of Address\n",
    "total_address = listings['address'].nunique()\n",
    "print(\"Total Number of address are :\", total_address)"
   ]
  },
  {
   "cell_type": "code",
   "execution_count": 25,
   "id": "1836a4ab-e3fd-4a2d-a00e-cef22abd2ae6",
   "metadata": {},
   "outputs": [],
   "source": [
    "#Address have to be splitted to Address,State and Country for better Analysis\n",
    "split_address = listings['address'].str.split(', ', expand=True)\n",
    "listings['Locality'] = split_address[0]\n",
    "listings['State'] = split_address[1]\n",
    "listings['Country'] = split_address[2]\n",
    "\n",
    "#removal of address column\n",
    "listings.drop('address', axis=1, inplace=True)"
   ]
  },
  {
   "cell_type": "code",
   "execution_count": 27,
   "id": "13c50af4-3cdb-4f55-b13c-1f3dec9b5138",
   "metadata": {},
   "outputs": [
    {
     "data": {
      "text/html": [
       "<div>\n",
       "<style scoped>\n",
       "    .dataframe tbody tr th:only-of-type {\n",
       "        vertical-align: middle;\n",
       "    }\n",
       "\n",
       "    .dataframe tbody tr th {\n",
       "        vertical-align: top;\n",
       "    }\n",
       "\n",
       "    .dataframe thead th {\n",
       "        text-align: right;\n",
       "    }\n",
       "</style>\n",
       "<table border=\"1\" class=\"dataframe\">\n",
       "  <thead>\n",
       "    <tr style=\"text-align: right;\">\n",
       "      <th></th>\n",
       "      <th>isHostedBySuperhost</th>\n",
       "      <th>location/lat</th>\n",
       "      <th>location/lng</th>\n",
       "      <th>name</th>\n",
       "      <th>numberOfGuests</th>\n",
       "      <th>pricing/rate/amount</th>\n",
       "      <th>roomType</th>\n",
       "      <th>stars</th>\n",
       "      <th>Locality</th>\n",
       "      <th>State</th>\n",
       "      <th>Country</th>\n",
       "    </tr>\n",
       "  </thead>\n",
       "  <tbody>\n",
       "    <tr>\n",
       "      <th>0</th>\n",
       "      <td>False</td>\n",
       "      <td>32.22330</td>\n",
       "      <td>77.18228</td>\n",
       "      <td>HighQ Manali / Deluxe Room</td>\n",
       "      <td>3</td>\n",
       "      <td>8946</td>\n",
       "      <td>Room in hotel</td>\n",
       "      <td>NaN</td>\n",
       "      <td>Manali</td>\n",
       "      <td>Himachal Pradesh</td>\n",
       "      <td>India</td>\n",
       "    </tr>\n",
       "    <tr>\n",
       "      <th>1</th>\n",
       "      <td>False</td>\n",
       "      <td>32.22352</td>\n",
       "      <td>77.18152</td>\n",
       "      <td>Highq manali / 3 BHK Cottage</td>\n",
       "      <td>9</td>\n",
       "      <td>9124</td>\n",
       "      <td>Room in hotel</td>\n",
       "      <td>NaN</td>\n",
       "      <td>Manali</td>\n",
       "      <td>Himachal Pradesh</td>\n",
       "      <td>India</td>\n",
       "    </tr>\n",
       "    <tr>\n",
       "      <th>2</th>\n",
       "      <td>False</td>\n",
       "      <td>15.50400</td>\n",
       "      <td>73.86600</td>\n",
       "      <td>Best view of the river from your terrace 04</td>\n",
       "      <td>4</td>\n",
       "      <td>9900</td>\n",
       "      <td>Private room in home</td>\n",
       "      <td>4.00</td>\n",
       "      <td>Goa</td>\n",
       "      <td>India</td>\n",
       "      <td>None</td>\n",
       "    </tr>\n",
       "    <tr>\n",
       "      <th>3</th>\n",
       "      <td>False</td>\n",
       "      <td>31.88656</td>\n",
       "      <td>77.14467</td>\n",
       "      <td>Shabashe</td>\n",
       "      <td>1</td>\n",
       "      <td>8684</td>\n",
       "      <td>Shared room in rental unit</td>\n",
       "      <td>NaN</td>\n",
       "      <td>Bhuntar</td>\n",
       "      <td>Himachal Pradesh</td>\n",
       "      <td>India</td>\n",
       "    </tr>\n",
       "    <tr>\n",
       "      <th>4</th>\n",
       "      <td>False</td>\n",
       "      <td>26.85991</td>\n",
       "      <td>75.66909</td>\n",
       "      <td>Luxurious Independent Studio with Wifi &amp; Kitchen</td>\n",
       "      <td>1</td>\n",
       "      <td>20690</td>\n",
       "      <td>Entire condo</td>\n",
       "      <td>4.75</td>\n",
       "      <td>Jaipur</td>\n",
       "      <td>Rajasthan</td>\n",
       "      <td>India</td>\n",
       "    </tr>\n",
       "  </tbody>\n",
       "</table>\n",
       "</div>"
      ],
      "text/plain": [
       "   isHostedBySuperhost  location/lat  location/lng  \\\n",
       "0                False      32.22330      77.18228   \n",
       "1                False      32.22352      77.18152   \n",
       "2                False      15.50400      73.86600   \n",
       "3                False      31.88656      77.14467   \n",
       "4                False      26.85991      75.66909   \n",
       "\n",
       "                                               name  numberOfGuests  \\\n",
       "0                        HighQ Manali / Deluxe Room               3   \n",
       "1                      Highq manali / 3 BHK Cottage               9   \n",
       "2       Best view of the river from your terrace 04               4   \n",
       "3                                          Shabashe               1   \n",
       "4  Luxurious Independent Studio with Wifi & Kitchen               1   \n",
       "\n",
       "   pricing/rate/amount                    roomType  stars Locality  \\\n",
       "0                 8946               Room in hotel    NaN   Manali   \n",
       "1                 9124               Room in hotel    NaN   Manali   \n",
       "2                 9900        Private room in home   4.00      Goa   \n",
       "3                 8684  Shared room in rental unit    NaN  Bhuntar   \n",
       "4                20690                Entire condo   4.75   Jaipur   \n",
       "\n",
       "              State Country  \n",
       "0  Himachal Pradesh   India  \n",
       "1  Himachal Pradesh   India  \n",
       "2             India    None  \n",
       "3  Himachal Pradesh   India  \n",
       "4         Rajasthan   India  "
      ]
     },
     "execution_count": 27,
     "metadata": {},
     "output_type": "execute_result"
    }
   ],
   "source": [
    "listings.head()"
   ]
  },
  {
   "cell_type": "code",
   "execution_count": 35,
   "id": "30d5226b-364e-49b5-b6e4-e92620e0fbb8",
   "metadata": {},
   "outputs": [
    {
     "data": {
      "text/html": [
       "<div>\n",
       "<style scoped>\n",
       "    .dataframe tbody tr th:only-of-type {\n",
       "        vertical-align: middle;\n",
       "    }\n",
       "\n",
       "    .dataframe tbody tr th {\n",
       "        vertical-align: top;\n",
       "    }\n",
       "\n",
       "    .dataframe thead th {\n",
       "        text-align: right;\n",
       "    }\n",
       "</style>\n",
       "<table border=\"1\" class=\"dataframe\">\n",
       "  <thead>\n",
       "    <tr style=\"text-align: right;\">\n",
       "      <th></th>\n",
       "      <th>superhost</th>\n",
       "      <th>Latitude</th>\n",
       "      <th>Longitude</th>\n",
       "      <th>Name</th>\n",
       "      <th>Guest Count</th>\n",
       "      <th>Price</th>\n",
       "      <th>Room Type</th>\n",
       "      <th>Ratings</th>\n",
       "      <th>Locality</th>\n",
       "      <th>State</th>\n",
       "      <th>Country</th>\n",
       "    </tr>\n",
       "  </thead>\n",
       "  <tbody>\n",
       "  </tbody>\n",
       "</table>\n",
       "</div>"
      ],
      "text/plain": [
       "Empty DataFrame\n",
       "Columns: [superhost, Latitude, Longitude, Name, Guest Count, Price, Room Type, Ratings, Locality, State, Country]\n",
       "Index: []"
      ]
     },
     "execution_count": 35,
     "metadata": {},
     "output_type": "execute_result"
    }
   ],
   "source": [
    "#Renaming Columns\n",
    "listings.rename(columns={'isHostedBySuperhost':'Superhost','pricing/rate/amount':'price','location/lat':'Latitude','location/lng':'Longitude','name':'Name','numberOfGuests':'Guest Count','pricing/rate/amount':'Price','roomType':'Room Type','stars':'Ratings'}, inplace=True)\n",
    "listings.head(0)"
   ]
  },
  {
   "cell_type": "code",
   "execution_count": 41,
   "id": "229b6850-6413-46d9-887f-1146713f7aac",
   "metadata": {},
   "outputs": [],
   "source": [
    "#Need to rearrage the data frame\n",
    "listings=listings[['Name', 'Locality', 'State', 'Country', 'Latitude', 'Longitude', 'Room Type', 'Guest Count','Price', 'Ratings']]"
   ]
  },
  {
   "cell_type": "code",
   "execution_count": 43,
   "id": "76e9ab38-c339-4769-ae77-7638468ce8d8",
   "metadata": {},
   "outputs": [
    {
     "data": {
      "text/html": [
       "<div>\n",
       "<style scoped>\n",
       "    .dataframe tbody tr th:only-of-type {\n",
       "        vertical-align: middle;\n",
       "    }\n",
       "\n",
       "    .dataframe tbody tr th {\n",
       "        vertical-align: top;\n",
       "    }\n",
       "\n",
       "    .dataframe thead th {\n",
       "        text-align: right;\n",
       "    }\n",
       "</style>\n",
       "<table border=\"1\" class=\"dataframe\">\n",
       "  <thead>\n",
       "    <tr style=\"text-align: right;\">\n",
       "      <th></th>\n",
       "      <th>Name</th>\n",
       "      <th>Locality</th>\n",
       "      <th>State</th>\n",
       "      <th>Country</th>\n",
       "      <th>Latitude</th>\n",
       "      <th>Longitude</th>\n",
       "      <th>Room Type</th>\n",
       "      <th>Guest Count</th>\n",
       "      <th>Price</th>\n",
       "      <th>Ratings</th>\n",
       "    </tr>\n",
       "  </thead>\n",
       "  <tbody>\n",
       "    <tr>\n",
       "      <th>0</th>\n",
       "      <td>HighQ Manali / Deluxe Room</td>\n",
       "      <td>Manali</td>\n",
       "      <td>Himachal Pradesh</td>\n",
       "      <td>India</td>\n",
       "      <td>32.22330</td>\n",
       "      <td>77.18228</td>\n",
       "      <td>Room in hotel</td>\n",
       "      <td>3</td>\n",
       "      <td>8946</td>\n",
       "      <td>NaN</td>\n",
       "    </tr>\n",
       "    <tr>\n",
       "      <th>1</th>\n",
       "      <td>Highq manali / 3 BHK Cottage</td>\n",
       "      <td>Manali</td>\n",
       "      <td>Himachal Pradesh</td>\n",
       "      <td>India</td>\n",
       "      <td>32.22352</td>\n",
       "      <td>77.18152</td>\n",
       "      <td>Room in hotel</td>\n",
       "      <td>9</td>\n",
       "      <td>9124</td>\n",
       "      <td>NaN</td>\n",
       "    </tr>\n",
       "    <tr>\n",
       "      <th>2</th>\n",
       "      <td>Best view of the river from your terrace 04</td>\n",
       "      <td>Goa</td>\n",
       "      <td>India</td>\n",
       "      <td>None</td>\n",
       "      <td>15.50400</td>\n",
       "      <td>73.86600</td>\n",
       "      <td>Private room in home</td>\n",
       "      <td>4</td>\n",
       "      <td>9900</td>\n",
       "      <td>4.00</td>\n",
       "    </tr>\n",
       "    <tr>\n",
       "      <th>3</th>\n",
       "      <td>Shabashe</td>\n",
       "      <td>Bhuntar</td>\n",
       "      <td>Himachal Pradesh</td>\n",
       "      <td>India</td>\n",
       "      <td>31.88656</td>\n",
       "      <td>77.14467</td>\n",
       "      <td>Shared room in rental unit</td>\n",
       "      <td>1</td>\n",
       "      <td>8684</td>\n",
       "      <td>NaN</td>\n",
       "    </tr>\n",
       "    <tr>\n",
       "      <th>4</th>\n",
       "      <td>Luxurious Independent Studio with Wifi &amp; Kitchen</td>\n",
       "      <td>Jaipur</td>\n",
       "      <td>Rajasthan</td>\n",
       "      <td>India</td>\n",
       "      <td>26.85991</td>\n",
       "      <td>75.66909</td>\n",
       "      <td>Entire condo</td>\n",
       "      <td>1</td>\n",
       "      <td>20690</td>\n",
       "      <td>4.75</td>\n",
       "    </tr>\n",
       "  </tbody>\n",
       "</table>\n",
       "</div>"
      ],
      "text/plain": [
       "                                               Name Locality  \\\n",
       "0                        HighQ Manali / Deluxe Room   Manali   \n",
       "1                      Highq manali / 3 BHK Cottage   Manali   \n",
       "2       Best view of the river from your terrace 04      Goa   \n",
       "3                                          Shabashe  Bhuntar   \n",
       "4  Luxurious Independent Studio with Wifi & Kitchen   Jaipur   \n",
       "\n",
       "              State Country  Latitude  Longitude                   Room Type  \\\n",
       "0  Himachal Pradesh   India  32.22330   77.18228               Room in hotel   \n",
       "1  Himachal Pradesh   India  32.22352   77.18152               Room in hotel   \n",
       "2             India    None  15.50400   73.86600        Private room in home   \n",
       "3  Himachal Pradesh   India  31.88656   77.14467  Shared room in rental unit   \n",
       "4         Rajasthan   India  26.85991   75.66909                Entire condo   \n",
       "\n",
       "   Guest Count  Price  Ratings  \n",
       "0            3   8946      NaN  \n",
       "1            9   9124      NaN  \n",
       "2            4   9900     4.00  \n",
       "3            1   8684      NaN  \n",
       "4            1  20690     4.75  "
      ]
     },
     "execution_count": 43,
     "metadata": {},
     "output_type": "execute_result"
    }
   ],
   "source": [
    "listings.head()"
   ]
  },
  {
   "cell_type": "code",
   "execution_count": 45,
   "id": "1cacf8e7-a92d-4fbb-9753-130ea77b9f8d",
   "metadata": {},
   "outputs": [
    {
     "name": "stdout",
     "output_type": "stream",
     "text": [
      "Total exclusive Names: 499\n"
     ]
    }
   ],
   "source": [
    "#Obtaining names excluding repeated ones\n",
    "norepeat_name = listings['Name'].nunique()\n",
    "print(\"Total exclusive Names:\", norepeat_name)"
   ]
  },
  {
   "cell_type": "code",
   "execution_count": 47,
   "id": "61e64268-2969-42a1-a076-e8812ec56cde",
   "metadata": {},
   "outputs": [
    {
     "name": "stdout",
     "output_type": "stream",
     "text": [
      "Total exclusive Room types: 40\n"
     ]
    }
   ],
   "source": [
    "#Total Room Types\n",
    "room_types = listings['Room Type'].nunique()\n",
    "print(\"Total exclusive Room types:\", room_types)"
   ]
  },
  {
   "cell_type": "code",
   "execution_count": 49,
   "id": "fe535586-473f-48d0-b391-e434bf23f1e1",
   "metadata": {},
   "outputs": [
    {
     "name": "stdout",
     "output_type": "stream",
     "text": [
      "+----+-----------------------------------+----------+\n",
      "|    | Room Type                         |   Number |\n",
      "|----+-----------------------------------+----------|\n",
      "|  0 | Entire villa                      |      220 |\n",
      "|  1 | Farm stay                         |       58 |\n",
      "|  2 | Entire home                       |       49 |\n",
      "|  3 | Entire bungalow                   |       29 |\n",
      "|  4 | Room in hotel                     |       19 |\n",
      "|  5 | Private room in resort            |       13 |\n",
      "|  6 | Room in boutique hotel            |       12 |\n",
      "|  7 | Private room in villa             |       11 |\n",
      "|  8 | Private room in bed and breakfast |        9 |\n",
      "|  9 | Entire condo                      |        8 |\n",
      "| 10 | Entire cottage                    |        7 |\n",
      "| 11 | Entire rental unit                |        7 |\n",
      "| 12 | Houseboat                         |        6 |\n",
      "| 13 | Entire chalet                     |        5 |\n",
      "| 14 | Entire serviced apartment         |        4 |\n",
      "| 15 | Room in heritage hotel            |        4 |\n",
      "| 16 | Room in serviced apartment        |        3 |\n",
      "| 17 | Private room in bungalow          |        3 |\n",
      "| 18 | Entire place                      |        3 |\n",
      "| 19 | Boat                              |        3 |\n",
      "| 20 | Room in resort                    |        2 |\n",
      "| 21 | Entire vacation home              |        2 |\n",
      "| 22 | Private room in castle            |        2 |\n",
      "| 23 | Private room in cottage           |        2 |\n",
      "| 24 | Private room in nature lodge      |        2 |\n",
      "| 25 | Private room in home              |        2 |\n",
      "| 26 | Castle                            |        2 |\n",
      "| 27 | Treehouse                         |        1 |\n",
      "| 28 | Shared room in rental unit        |        1 |\n",
      "| 29 | Campsite                          |        1 |\n",
      "| 30 | Entire home/apt                   |        1 |\n",
      "| 31 | Private room in chalet            |        1 |\n",
      "| 32 | Private room in condo             |        1 |\n",
      "| 33 | Camper/RV                         |        1 |\n",
      "| 34 | Private room in earthen home      |        1 |\n",
      "| 35 | Hut                               |        1 |\n",
      "| 36 | Tent                              |        1 |\n",
      "| 37 | Private room in farm stay         |        1 |\n",
      "| 38 | Shared room in guest suite        |        1 |\n",
      "| 39 | Entire cabin                      |        1 |\n",
      "+----+-----------------------------------+----------+\n"
     ]
    }
   ],
   "source": [
    "#Tabulating room types\n",
    "import pandas as pd\n",
    "from tabulate import tabulate\n",
    "roomtype_counts = listings['Room Type'].value_counts()\n",
    "roomtype_counts_listings = pd.DataFrame({'Room Type': roomtype_counts.index, 'Number': roomtype_counts.values})\n",
    "print(tabulate(roomtype_counts_listings, headers='keys', tablefmt='psql'))"
   ]
  },
  {
   "cell_type": "code",
   "execution_count": 55,
   "id": "fdbfef46-b6b7-401c-b51e-0042d80e8282",
   "metadata": {},
   "outputs": [
    {
     "name": "stdout",
     "output_type": "stream",
     "text": [
      "+-----+----------------------+---------+\n",
      "|     | Locality             |   Count |\n",
      "|-----+----------------------+---------|\n",
      "|   0 | Candolim             |      25 |\n",
      "|   1 | New Delhi            |      22 |\n",
      "|   2 | Lonavla              |      16 |\n",
      "|   3 | Anjuna               |      15 |\n",
      "|   4 | Jaipur               |      14 |\n",
      "|   5 | Calangute            |      14 |\n",
      "|   6 | Lonavala             |      13 |\n",
      "|   7 | Gurugram             |      11 |\n",
      "|   8 | Udaipur              |      11 |\n",
      "|   9 | Goa                  |      10 |\n",
      "|  10 | Assagao              |       9 |\n",
      "|  11 | Vagator              |       9 |\n",
      "|  12 | Manali               |       8 |\n",
      "|  13 | Mumbai               |       8 |\n",
      "|  14 | North Goa            |       8 |\n",
      "|  15 | Alappuzha            |       8 |\n",
      "|  16 | Chennai              |       7 |\n",
      "|  17 | Alibag               |       7 |\n",
      "|  18 | Sangolda             |       6 |\n",
      "|  19 | Baga                 |       6 |\n",
      "|  20 | Nerul                |       6 |\n",
      "|  21 | Dehradun             |       5 |\n",
      "|  22 | Nainital             |       5 |\n",
      "|  23 | Panchgani            |       5 |\n",
      "|  24 | Bengaluru            |       5 |\n",
      "|  25 | Mandrem              |       5 |\n",
      "|  26 | Arpora               |       5 |\n",
      "|  27 | Mahabaleshwar        |       4 |\n",
      "|  28 | Kasauli              |       4 |\n",
      "|  29 | Kodaikanal           |       4 |\n",
      "|  30 | Kochi                |       4 |\n",
      "|  31 | Rishikesh            |       4 |\n",
      "|  32 | Vijayawada           |       3 |\n",
      "|  33 | Bhuntar              |       3 |\n",
      "|  34 | Nashik               |       3 |\n",
      "|  35 | Penha de França      |       3 |\n",
      "|  36 | Zirad                |       3 |\n",
      "|  37 | Kumarakom            |       3 |\n",
      "|  38 | Parra                |       3 |\n",
      "|  39 | Reis Magos           |       3 |\n",
      "|  40 | Kune N.m.            |       3 |\n",
      "|  41 | Mararikulam          |       2 |\n",
      "|  42 | Dona Paula           |       2 |\n",
      "|  43 | Awas                 |       2 |\n",
      "|  44 | Moira                |       2 |\n",
      "|  45 | Kihim                |       2 |\n",
      "|  46 | Gurgaon              |       2 |\n",
      "|  47 | Ahmedabad            |       2 |\n",
      "|  48 | Maravanthe           |       2 |\n",
      "|  49 | Ramgarh              |       2 |\n",
      "|  50 | Varanasi             |       2 |\n",
      "|  51 | Igatpuri             |       2 |\n",
      "|  52 | Krishnagiri          |       2 |\n",
      "|  53 | Mussoorie            |       2 |\n",
      "|  54 | Pune                 |       2 |\n",
      "|  55 | Verla                |       2 |\n",
      "|  56 | Khandala             |       2 |\n",
      "|  57 | Karjat               |       2 |\n",
      "|  58 | Saligao              |       2 |\n",
      "|  59 | Panaji               |       2 |\n",
      "|  60 | Puducherry           |       2 |\n",
      "|  61 | Kotagiri             |       2 |\n",
      "|  62 | Pawnanagar           |       2 |\n",
      "|  63 | Colovale             |       2 |\n",
      "|  64 | Barashiv             |       2 |\n",
      "|  65 | Canacona             |       2 |\n",
      "|  66 | Sadahalli            |       1 |\n",
      "|  67 | Sheel                |       1 |\n",
      "|  68 | Shashbani            |       1 |\n",
      "|  69 | Mirik                |       1 |\n",
      "|  70 | Vashist              |       1 |\n",
      "|  71 | Indore               |       1 |\n",
      "|  72 | Khingar              |       1 |\n",
      "|  73 | Hosur                |       1 |\n",
      "|  74 | Ramnagar             |       1 |\n",
      "|  75 | Palampur             |       1 |\n",
      "|  76 | Dodamarg Maharashtra |       1 |\n",
      "|  77 | Anjuna - Vagator     |       1 |\n",
      "|  78 | Kothali              |       1 |\n",
      "|  79 | Amritsar             |       1 |\n",
      "|  80 | Haleyangadi          |       1 |\n",
      "|  81 | Pawna                |       1 |\n",
      "|  82 | Bhimtal              |       1 |\n",
      "|  83 | Bangalore Urban      |       1 |\n",
      "|  84 | Navelim              |       1 |\n",
      "|  85 | Bani Park            |       1 |\n",
      "|  86 | Kanthavli            |       1 |\n",
      "|  87 | Ashvem Beach         |       1 |\n",
      "|  88 | Agra                 |       1 |\n",
      "|  89 | Puthenvelikara       |       1 |\n",
      "|  90 | Mount Abu            |       1 |\n",
      "|  91 | Karjat.              |       1 |\n",
      "|  92 | Hairiya Gaon         |       1 |\n",
      "|  93 | Chaukariya           |       1 |\n",
      "|  94 | Nawanpind Sardaran   |       1 |\n",
      "|  95 | Nedumudy             |       1 |\n",
      "|  96 | Udupi                |       1 |\n",
      "|  97 | Marsur               |       1 |\n",
      "|  98 | Siolim               |       1 |\n",
      "|  99 | Varca                |       1 |\n",
      "| 100 | Pravithanam          |       1 |\n",
      "| 101 | Chapora              |       1 |\n",
      "| 102 | Lanja                |       1 |\n",
      "| 103 | Ranga Reddy          |       1 |\n",
      "| 104 | Colva                |       1 |\n",
      "| 105 | Alto Porvorim        |       1 |\n",
      "| 106 | Dhanolti             |       1 |\n",
      "| 107 | Nalambi              |       1 |\n",
      "| 108 | Sughandhagiry        |       1 |\n",
      "| 109 | Chalnichhina         |       1 |\n",
      "| 110 | Mukhteshwar          |       1 |\n",
      "| 111 | Jojawar              |       1 |\n",
      "| 112 | Bini                 |       1 |\n",
      "| 113 | Kutta                |       1 |\n",
      "| 114 | Ooty                 |       1 |\n",
      "| 115 | Bagalur              |       1 |\n",
      "| 116 | Lucknow              |       1 |\n",
      "| 117 | Marudanapalli        |       1 |\n",
      "| 118 | Uttarakhand          |       1 |\n",
      "| 119 | Kanathur             |       1 |\n",
      "| 120 | Morve                |       1 |\n",
      "| 121 | Chikkamagaluru       |       1 |\n",
      "| 122 | Haripur              |       1 |\n",
      "| 123 | Diveagar             |       1 |\n",
      "| 124 | Bhilar               |       1 |\n",
      "| 125 | Wavarle              |       1 |\n",
      "| 126 | Thattekad            |       1 |\n",
      "| 127 | Kanatal              |       1 |\n",
      "| 128 | Gokarna              |       1 |\n",
      "| 129 | Satirje              |       1 |\n",
      "| 130 | Haryana              |       1 |\n",
      "| 131 | Waghodia             |       1 |\n",
      "| 132 | Aryad South          |       1 |\n",
      "| 133 | Nandgaon             |       1 |\n",
      "| 134 | Delhi                |       1 |\n",
      "| 135 | Amritsar Cantt.      |       1 |\n",
      "| 136 | Calangute Beach      |       1 |\n",
      "| 137 | Nilgiris             |       1 |\n",
      "| 138 | Ashapura             |       1 |\n",
      "| 139 | Mahagaon             |       1 |\n",
      "| 140 | Kalwar               |       1 |\n",
      "| 141 | India                |       1 |\n",
      "| 142 | Alibaug              |       1 |\n",
      "| 143 | Janedghat            |       1 |\n",
      "| 144 | Bujra                |       1 |\n",
      "| 145 | Kolkata              |       1 |\n",
      "| 146 | Kasol                |       1 |\n",
      "| 147 | Patna                |       1 |\n",
      "| 148 | Khoohdi              |       1 |\n",
      "| 149 | Ambelim              |       1 |\n",
      "| 150 | Kukas                |       1 |\n",
      "| 151 | Dona Paula Beach     |       1 |\n",
      "| 152 | Panjim               |       1 |\n",
      "| 153 | Ganaheda             |       1 |\n",
      "| 154 | Banjar               |       1 |\n",
      "| 155 | Morjim               |       1 |\n",
      "| 156 | Aru                  |       1 |\n",
      "| 157 | Pathau               |       1 |\n",
      "| 158 | Nathuwakhan          |       1 |\n",
      "| 159 | Loutolim             |       1 |\n",
      "| 160 | Panna                |       1 |\n",
      "| 161 | Kullu                |       1 |\n",
      "| 162 | SALIGAO              |       1 |\n",
      "| 163 | Ribandar             |       1 |\n",
      "| 164 | Guirim               |       1 |\n",
      "| 165 | Assonora             |       1 |\n",
      "| 166 | Gauravaddo           |       1 |\n",
      "| 167 | Abu Road             |       1 |\n",
      "| 168 | Govind Nagar         |       1 |\n",
      "| 169 | Marna                |       1 |\n",
      "| 170 | Brittona             |       1 |\n",
      "| 171 | Arambol              |       1 |\n",
      "| 172 | Aundholi             |       1 |\n",
      "| 173 | Bagru                |       1 |\n",
      "| 174 | Narendra Nagar       |       1 |\n",
      "| 175 | Assagaon             |       1 |\n",
      "| 176 | Dabolim              |       1 |\n",
      "| 177 | Tangmarg             |       1 |\n",
      "| 178 | Tilase               |       1 |\n",
      "| 179 | Virajpet             |       1 |\n",
      "| 180 | Ernakulam            |       1 |\n",
      "| 181 | Bardez               |       1 |\n",
      "| 182 | BARDEZ               |       1 |\n",
      "| 183 | Aldona               |       1 |\n",
      "| 184 | Garat Pur Bas        |       1 |\n",
      "| 185 | Vadanemmeli          |       1 |\n",
      "| 186 | Nerul                |       1 |\n",
      "| 187 | Shahpur              |       1 |\n",
      "| 188 | Chouk                |       1 |\n",
      "| 189 | Raigad               |       1 |\n",
      "| 190 | Chuchot Yakma        |       1 |\n",
      "| 191 | Bhandar Gaon         |       1 |\n",
      "| 192 | Candolim             |       1 |\n",
      "| 193 | Achrol               |       1 |\n",
      "| 194 | Pawas                |       1 |\n",
      "| 195 | Bijainagar           |       1 |\n",
      "| 196 | Aamwala              |       1 |\n",
      "| 197 | Kashid               |       1 |\n",
      "| 198 | Kamshet              |       1 |\n",
      "| 199 | Gadherni             |       1 |\n",
      "| 200 | Kumdal               |       1 |\n",
      "| 201 | Kerala               |       1 |\n",
      "| 202 | Almora               |       1 |\n",
      "| 203 | Coimbatore           |       1 |\n",
      "| 204 | Raiseena             |       1 |\n",
      "| 205 | Munnar               |       1 |\n",
      "+-----+----------------------+---------+\n"
     ]
    }
   ],
   "source": [
    "#Total Number of stays per city\n",
    "import pandas as pd\n",
    "from tabulate import tabulate\n",
    "citywise_counts = listings['Locality'].value_counts()\n",
    "citywise_counts_listings = pd.DataFrame({'Locality': citywise_counts.index,'Count': citywise_counts.values})\n",
    "print(tabulate(citywise_counts_listings, headers='keys', tablefmt='psql'))"
   ]
  },
  {
   "cell_type": "code",
   "execution_count": 57,
   "id": "2e75b8c8-933c-4a9f-8515-a561bd085b07",
   "metadata": {},
   "outputs": [
    {
     "name": "stdout",
     "output_type": "stream",
     "text": [
      "+----+-----------------------------+---------+\n",
      "|    | State                       |   Count |\n",
      "|----+-----------------------------+---------|\n",
      "|  0 | Goa                         |     151 |\n",
      "|  1 | Maharashtra                 |      95 |\n",
      "|  2 | Rajasthan                   |      38 |\n",
      "|  3 | Uttarakhand                 |      32 |\n",
      "|  4 | Himachal Pradesh            |      24 |\n",
      "|  5 | Kerala                      |      24 |\n",
      "|  6 | Delhi                       |      22 |\n",
      "|  7 | India                       |      22 |\n",
      "|  8 | Tamil Nadu                  |      20 |\n",
      "|  9 | Haryana                     |      14 |\n",
      "| 10 | Karnataka                   |      13 |\n",
      "| 11 | Uttar Pradesh               |       4 |\n",
      "| 12 | Andhra Pradesh              |       3 |\n",
      "| 13 | Punjab                      |       3 |\n",
      "| 14 | Gujarat                     |       3 |\n",
      "| 15 | MH                          |       3 |\n",
      "| 16 | GA                          |       2 |\n",
      "| 17 | North Goa                   |       2 |\n",
      "| 18 | TN                          |       2 |\n",
      "| 19 | West Bengal                 |       2 |\n",
      "| 20 | Madhya Pradesh              |       2 |\n",
      "| 21 | कर्नाटक                      |       1 |\n",
      "| 22 | goa                         |       1 |\n",
      "| 23 | KA                          |       1 |\n",
      "| 24 | Telangana                   |       1 |\n",
      "| 25 | Karle                       |       1 |\n",
      "| 26 | Uttrakhand                  |       1 |\n",
      "| 27 | Bardez                      |       1 |\n",
      "| 28 | महाराष्ट्र                    |       1 |\n",
      "| 29 | Andaman and Nicobar Islands |       1 |\n",
      "| 30 | Chennai                     |       1 |\n",
      "| 31 | Bardez North Goa            |       1 |\n",
      "| 32 | HR                          |       1 |\n",
      "| 33 | Kodagu                      |       1 |\n",
      "| 34 | Jammu and Kashmir           |       1 |\n",
      "| 35 | Bihar                       |       1 |\n",
      "| 36 | Nasirabad                   |       1 |\n",
      "| 37 | Calangute                   |       1 |\n",
      "| 38 | HP                          |       1 |\n",
      "+----+-----------------------------+---------+\n"
     ]
    }
   ],
   "source": [
    "#Total Number of stays per state\n",
    "import pandas as pd\n",
    "from tabulate import tabulate\n",
    "statewise_counts = listings['State'].value_counts()\n",
    "statewise_counts_listings = pd.DataFrame({'State': statewise_counts.index,'Count': statewise_counts.values})\n",
    "print(tabulate(statewise_counts_listings, headers='keys', tablefmt='psql'))"
   ]
  },
  {
   "cell_type": "raw",
   "id": "3b9652bd-3aaf-4abd-bd67-55742a2f0e9c",
   "metadata": {},
   "source": [
    "#Requires data cleansing and transformation as there are many Hindi Names as well as repeated names(Goa,GA etc) based on primary analysis of the table"
   ]
  },
  {
   "cell_type": "code",
   "execution_count": 65,
   "id": "ffbbbf55-7736-410e-a533-41219245ea49",
   "metadata": {},
   "outputs": [],
   "source": [
    "listings['State'] = listings['State'].replace(['Chennai','TN'], 'Tamil Nadu')\n",
    "listings['State'] = listings['State'].replace(['Kodagu','Karle','KA','कर्नाटक'], 'Karnataka')\n",
    "listings['State'] =listings['State'].replace(['goa','GA','Bardez','Bardez North Goa','North Goa','Calangute'], 'Goa')\n",
    "listings['State'] =listings['State'].replace(['महाराष्ट्र','MH'], 'Maharashtra')\n",
    "listings['State'] = listings['State'].replace({'HP': 'Himachal Pradesh','HR':'Haryana', 'Uttrakhand':'Uttarakhand','Nasirabad': 'Rajasthan'})"
   ]
  },
  {
   "cell_type": "code",
   "execution_count": 67,
   "id": "ea56b5f3-3385-44f9-bbca-257a03941d11",
   "metadata": {},
   "outputs": [
    {
     "name": "stdout",
     "output_type": "stream",
     "text": [
      "+----+-----------------------------+---------+\n",
      "|    | State                       |   Count |\n",
      "|----+-----------------------------+---------|\n",
      "|  0 | Goa                         |     159 |\n",
      "|  1 | Maharashtra                 |      99 |\n",
      "|  2 | Rajasthan                   |      38 |\n",
      "|  3 | Uttarakhand                 |      33 |\n",
      "|  4 | Himachal Pradesh            |      25 |\n",
      "|  5 | Kerala                      |      24 |\n",
      "|  6 | Tamil Nadu                  |      23 |\n",
      "|  7 | Delhi                       |      22 |\n",
      "|  8 | India                       |      22 |\n",
      "|  9 | Karnataka                   |      17 |\n",
      "| 10 | Haryana                     |      15 |\n",
      "| 11 | Uttar Pradesh               |       4 |\n",
      "| 12 | Gujarat                     |       3 |\n",
      "| 13 | Punjab                      |       3 |\n",
      "| 14 | Andhra Pradesh              |       3 |\n",
      "| 15 | West Bengal                 |       2 |\n",
      "| 16 | Madhya Pradesh              |       2 |\n",
      "| 17 | Nasirabad                   |       1 |\n",
      "| 18 | Bihar                       |       1 |\n",
      "| 19 | Andaman and Nicobar Islands |       1 |\n",
      "| 20 | Jammu and Kashmir           |       1 |\n",
      "| 21 | Telangana                   |       1 |\n",
      "+----+-----------------------------+---------+\n"
     ]
    }
   ],
   "source": [
    "#Let us formulate the table again\n",
    "import pandas as pd\n",
    "from tabulate import tabulate\n",
    "statewise_counts = listings['State'].value_counts()\n",
    "statewise_counts_listings = pd.DataFrame({'State': statewise_counts.index,'Count': statewise_counts.values})\n",
    "print(tabulate(statewise_counts_listings, headers='keys', tablefmt='psql'))"
   ]
  },
  {
   "cell_type": "code",
   "execution_count": null,
   "id": "21560618-a4f9-4bcd-8387-d82a9c03d5ee",
   "metadata": {},
   "outputs": [],
   "source": [
    "#Need to resolve the issue of Nasirabad on the above table"
   ]
  },
  {
   "cell_type": "code",
   "execution_count": 73,
   "id": "b1e5c83d-e067-4b8b-804c-7efcadb9413f",
   "metadata": {},
   "outputs": [],
   "source": [
    "listings['State'] = listings['State'].replace({'Nasirabad ': 'Rajasthan'})"
   ]
  },
  {
   "cell_type": "code",
   "execution_count": 75,
   "id": "40686520-c9ff-4023-b9e9-64d16306a3e8",
   "metadata": {},
   "outputs": [
    {
     "name": "stdout",
     "output_type": "stream",
     "text": [
      "+----+-----------------------------+---------+\n",
      "|    | State                       |   Count |\n",
      "|----+-----------------------------+---------|\n",
      "|  0 | Goa                         |     159 |\n",
      "|  1 | Maharashtra                 |      99 |\n",
      "|  2 | Rajasthan                   |      39 |\n",
      "|  3 | Uttarakhand                 |      33 |\n",
      "|  4 | Himachal Pradesh            |      25 |\n",
      "|  5 | Kerala                      |      24 |\n",
      "|  6 | Tamil Nadu                  |      23 |\n",
      "|  7 | Delhi                       |      22 |\n",
      "|  8 | India                       |      22 |\n",
      "|  9 | Karnataka                   |      17 |\n",
      "| 10 | Haryana                     |      15 |\n",
      "| 11 | Uttar Pradesh               |       4 |\n",
      "| 12 | Punjab                      |       3 |\n",
      "| 13 | Andhra Pradesh              |       3 |\n",
      "| 14 | Gujarat                     |       3 |\n",
      "| 15 | Madhya Pradesh              |       2 |\n",
      "| 16 | West Bengal                 |       2 |\n",
      "| 17 | Andaman and Nicobar Islands |       1 |\n",
      "| 18 | Bihar                       |       1 |\n",
      "| 19 | Jammu and Kashmir           |       1 |\n",
      "| 20 | Telangana                   |       1 |\n",
      "+----+-----------------------------+---------+\n"
     ]
    }
   ],
   "source": [
    "#Let us formulate the table again\n",
    "import pandas as pd\n",
    "from tabulate import tabulate\n",
    "statewise_counts = listings['State'].value_counts()\n",
    "statewise_counts_listings = pd.DataFrame({'State': statewise_counts.index,'Count': statewise_counts.values})\n",
    "print(tabulate(statewise_counts_listings, headers='keys', tablefmt='psql'))\n",
    "\n",
    "#there is a blank space after Nasirabad in the data"
   ]
  },
  {
   "cell_type": "code",
   "execution_count": 83,
   "id": "61989ffc-bdf7-42da-b93f-2e495305a092",
   "metadata": {},
   "outputs": [
    {
     "name": "stdout",
     "output_type": "stream",
     "text": [
      "Name                                                Locality              State    Country      Latitude    Longitude  Room Type                            Guest Count    Price    Ratings  state\n",
      "--------------------------------------------------  --------------------  -------  ---------  ----------  -----------  ---------------------------------  -------------  -------  ---------  -------\n",
      "Best view of the river from your terrace 04         Goa                   India                 15.504        73.866   Private room in home                           4     9900       4     India\n",
      "Pahalgham Cottage Next to the River                 Aru                   India                 34.0909       75.2641  Entire cottage                                10      782     nan     India\n",
      "Escape to Paradise, Your Group Getaway 12-36 Pax    Goa                   India                 15.535        73.767   Entire villa                                  16      978       5     India\n",
      "Private Room  For LONG STAY  with attached bath,    Delhi                 India                 28.6694       77.2037  Private room in bed and breakfast              2     1924     nan     India\n",
      "Luxury Boutique Hotel.                              Goa                   India                 15.3155       73.913   Room in boutique hotel                        16      880       4.94  India\n",
      "Cherry Flower.                                      Mahagaon              India                 18.697        73.506   Entire bungalow                               16     1546       4.53  India\n",
      "Villa Helena Heritage Guest House - Full Villa      Puducherry            India                 11.928        79.833   Private room in bed and breakfast             16      589     nan     India\n",
      "Spice Routes Houseboat- Saffron                     Alappuzha             India                  9.46065      76.3945  Houseboat                                      2      541     nan     India\n",
      "chomal huts                                         Chuchot Yakma         India                 34.0869       77.5807  Private room in resort                        10      541     nan     India\n",
      "Family superior cottage - Morning glory             Kerala                India                 11.5305       76.155   Private room in bed and breakfast              4      722     nan     India\n",
      "4bhk Sea View Villa @reismagos Candolim             Goa                   India                 15.4995       73.7951  Entire home                                   12      457     nan     India\n",
      "Jain Farms                                          Haryana               India                 28.3724       77.0529  Farm stay                                     16      447     nan     India\n",
      "4BR Casa Do Amor Pvt Pool & Breakfast               Goa                   India                 15.5421       73.8111  Entire villa                                  11      480     nan     India\n",
      "Shivaaz Holiday Farms - Near Mopa Airport Goa       Dodamarg Maharashtra  India                 15.6811       74.0541  Farm stay                                     16      463     nan     India\n",
      "Mingle with the Stars in an Open to Sky Bathroom    Goa                   India                 15.535        73.767   Entire home                                   16      425       4.92  India\n",
      "Private Luxury Home With Spacious Design            Goa                   India                 15.535        73.767   Entire home                                   14      473     nan     India\n",
      "Aashraya on the Ganga : Himalayan Farmstay Retreat  Uttarakhand           India                 30.064        78.5186  Farm stay                                     12      412       4.5   India\n",
      "Luxury Villa with Private Pool                      Puducherry            India                 11.918        79.82    Entire home                                   15      481     nan     India\n",
      "3- bedroom Villa with pvt  swimming pool            Goa                   India                 15.5267       73.7614  Private room in resort                         6      439     nan     India\n",
      "A Cosy Villa near the beach in Goa                  Varca                 India                 15.2228       73.9369  Entire villa                                  10      134       4.6   India\n",
      "3 Bhk Luxury Beach Villa.                           Goa                   India                 15.5144       73.7662  Entire bungalow                               10      139       4.92  India\n",
      "HAPPY 2 U\n",
      "Candolim.\n",
      "Vagator ,Cosy & Modern 3 bedroom villa for 8        Goa                   India                 15.5987       73.757   Entire villa                                   8      196       5     India\n"
     ]
    }
   ],
   "source": [
    "#There is India in the above state list which needs to be filtered out.We need to segregate such rows from the table and analyse the data for any leads\n",
    "from tabulate import tabulate\n",
    "indiarow = listings[listings['State'] == 'India']\n",
    "segr_row = indiarow.values.tolist()\n",
    "print(tabulate(segr_row, headers=listings.columns))"
   ]
  },
  {
   "cell_type": "code",
   "execution_count": 85,
   "id": "6e3d4671-984a-42e5-99d0-cf27ad2d6ee6",
   "metadata": {},
   "outputs": [],
   "source": [
    "#Locality got misplaced with the state name and state name got misplaced with country name"
   ]
  },
  {
   "cell_type": "code",
   "execution_count": 87,
   "id": "f3495c1d-dd77-4129-9ac6-ff2273a90cda",
   "metadata": {},
   "outputs": [],
   "source": [
    "listings.loc[listings['State'] == 'India', 'State'] = listings.loc[listings['State'] == 'India', 'Locality']"
   ]
  },
  {
   "cell_type": "code",
   "execution_count": 91,
   "id": "b9dbdc8c-ca60-404f-b179-370d4d411529",
   "metadata": {},
   "outputs": [
    {
     "name": "stdout",
     "output_type": "stream",
     "text": [
      "+----+-----------------------------+---------+\n",
      "|    | State                       |   Count |\n",
      "|----+-----------------------------+---------|\n",
      "|  0 | Goa                         |     169 |\n",
      "|  1 | Maharashtra                 |      99 |\n",
      "|  2 | Rajasthan                   |      39 |\n",
      "|  3 | Uttarakhand                 |      34 |\n",
      "|  4 | Himachal Pradesh            |      25 |\n",
      "|  5 | Kerala                      |      25 |\n",
      "|  6 | Delhi                       |      23 |\n",
      "|  7 | Tamil Nadu                  |      23 |\n",
      "|  8 | Karnataka                   |      17 |\n",
      "|  9 | Haryana                     |      16 |\n",
      "| 10 | Uttar Pradesh               |       4 |\n",
      "| 11 | Punjab                      |       3 |\n",
      "| 12 | Andhra Pradesh              |       3 |\n",
      "| 13 | Gujarat                     |       3 |\n",
      "| 14 | Madhya Pradesh              |       2 |\n",
      "| 15 | West Bengal                 |       2 |\n",
      "| 16 | Puducherry                  |       2 |\n",
      "| 17 | Aru                         |       1 |\n",
      "| 18 | Varca                       |       1 |\n",
      "| 19 | Dodamarg Maharashtra        |       1 |\n",
      "| 20 | Jammu and Kashmir           |       1 |\n",
      "| 21 | Andaman and Nicobar Islands |       1 |\n",
      "| 22 | Chuchot Yakma               |       1 |\n",
      "| 23 | Alappuzha                   |       1 |\n",
      "| 24 | Bihar                       |       1 |\n",
      "| 25 | Mahagaon                    |       1 |\n",
      "| 26 | Telangana                   |       1 |\n",
      "+----+-----------------------------+---------+\n"
     ]
    }
   ],
   "source": [
    "#Let us formulate the table again\n",
    "import pandas as pd\n",
    "from tabulate import tabulate\n",
    "statewise_counts = listings['State'].value_counts()\n",
    "statewise_counts_listings = pd.DataFrame({'State': statewise_counts.index,'Count': statewise_counts.values})\n",
    "print(tabulate(statewise_counts_listings, headers='keys', tablefmt='psql'))"
   ]
  },
  {
   "cell_type": "code",
   "execution_count": null,
   "id": "21949fd3-4cb2-45c6-9d9a-b7560ea15d8c",
   "metadata": {},
   "outputs": [],
   "source": [
    "#There needs to be more data cleansing after exclusion of India"
   ]
  },
  {
   "cell_type": "code",
   "execution_count": 97,
   "id": "b2b2b43d-873b-40a8-82e8-1580c38fee4c",
   "metadata": {},
   "outputs": [],
   "source": [
    "listings['State'] =listings['State'].replace(['Dodamarg Maharashtra','Mahagaon'], 'Maharashtra')\n",
    "listings['State'] = listings['State'].replace({'Alappuzha': 'Kerala','Chuchot Yakma':'Ladakh','Nasirabad': 'Rajasthan','Varca':'Goa','Aru':'Jammu and Kashmir'})"
   ]
  },
  {
   "cell_type": "code",
   "execution_count": null,
   "id": "6c0006ab-5a15-4ec4-b2c8-e40030635a09",
   "metadata": {},
   "outputs": [],
   "source": []
  },
  {
   "cell_type": "code",
   "execution_count": 99,
   "id": "6288c949-d663-4d16-8bdc-4ef6436769a4",
   "metadata": {},
   "outputs": [
    {
     "name": "stdout",
     "output_type": "stream",
     "text": [
      "+----+-----------------------------+---------+\n",
      "|    | State                       |   Count |\n",
      "|----+-----------------------------+---------|\n",
      "|  0 | Goa                         |     170 |\n",
      "|  1 | Maharashtra                 |     101 |\n",
      "|  2 | Rajasthan                   |      39 |\n",
      "|  3 | Uttarakhand                 |      34 |\n",
      "|  4 | Kerala                      |      26 |\n",
      "|  5 | Himachal Pradesh            |      25 |\n",
      "|  6 | Tamil Nadu                  |      23 |\n",
      "|  7 | Delhi                       |      23 |\n",
      "|  8 | Karnataka                   |      17 |\n",
      "|  9 | Haryana                     |      16 |\n",
      "| 10 | Uttar Pradesh               |       4 |\n",
      "| 11 | Gujarat                     |       3 |\n",
      "| 12 | Punjab                      |       3 |\n",
      "| 13 | Andhra Pradesh              |       3 |\n",
      "| 14 | West Bengal                 |       2 |\n",
      "| 15 | Puducherry                  |       2 |\n",
      "| 16 | Madhya Pradesh              |       2 |\n",
      "| 17 | Jammu and Kashmir           |       2 |\n",
      "| 18 | Bihar                       |       1 |\n",
      "| 19 | Andaman and Nicobar Islands |       1 |\n",
      "| 20 | Ladakh                      |       1 |\n",
      "| 21 | Telangana                   |       1 |\n",
      "+----+-----------------------------+---------+\n"
     ]
    }
   ],
   "source": [
    "#Let us formulate the table again after replacing Alapuzha,Varca,Aru etc\n",
    "import pandas as pd\n",
    "from tabulate import tabulate\n",
    "statewise_counts = listings['State'].value_counts()\n",
    "statewise_counts_listings = pd.DataFrame({'State': statewise_counts.index,'Count': statewise_counts.values})\n",
    "print(tabulate(statewise_counts_listings, headers='keys', tablefmt='psql'))"
   ]
  },
  {
   "cell_type": "code",
   "execution_count": 103,
   "id": "167fb070-7ab0-4769-8da3-b0df15cf5432",
   "metadata": {},
   "outputs": [],
   "source": [
    "#Listing out null value rows\n",
    "null_rows = listings[listings['Country'].isna() | listings['Country'].eq('')]"
   ]
  },
  {
   "cell_type": "code",
   "execution_count": 165,
   "id": "7b9da9e7-ffd5-4b9d-b9d1-252714c25f1a",
   "metadata": {},
   "outputs": [],
   "source": [
    "null_state=listings[listings['State'].isna() | listings['State'].eq('')]"
   ]
  },
  {
   "cell_type": "code",
   "execution_count": null,
   "id": "f80281d9-f3fd-4e34-b83f-d48aa7a1cb83",
   "metadata": {},
   "outputs": [],
   "source": [
    "listings.fillna({'stars':'0'}, inplace=True)"
   ]
  },
  {
   "cell_type": "code",
   "execution_count": 115,
   "id": "341876ab-2362-4c5d-85f3-c37dcc4955e3",
   "metadata": {},
   "outputs": [],
   "source": [
    "listings.loc[listings['Country'].isna(), 'Country'] = 'India'"
   ]
  },
  {
   "cell_type": "code",
   "execution_count": 151,
   "id": "726f3e7c-0100-4e80-966a-a9eab833c421",
   "metadata": {},
   "outputs": [],
   "source": [
    "listings.fillna({'stars':'0'}, inplace=True)"
   ]
  },
  {
   "cell_type": "code",
   "execution_count": 155,
   "id": "a0cf322e-500a-4cc4-bcaa-81f9dc19bccc",
   "metadata": {},
   "outputs": [
    {
     "data": {
      "text/plain": [
       "Name           0\n",
       "Locality       0\n",
       "State          1\n",
       "Country        0\n",
       "Latitude       0\n",
       "Longitude      0\n",
       "Room Type      0\n",
       "Guest Count    0\n",
       "Price          0\n",
       "Ratings        0\n",
       "state          1\n",
       "dtype: int64"
      ]
     },
     "execution_count": 155,
     "metadata": {},
     "output_type": "execute_result"
    }
   ],
   "source": [
    "listings.isnull().sum()  #Sorting the null value"
   ]
  },
  {
   "cell_type": "code",
   "execution_count": 157,
   "id": "4190df95-7404-42c8-a7cc-4b42630ace12",
   "metadata": {},
   "outputs": [
    {
     "data": {
      "text/html": [
       "<div>\n",
       "<style scoped>\n",
       "    .dataframe tbody tr th:only-of-type {\n",
       "        vertical-align: middle;\n",
       "    }\n",
       "\n",
       "    .dataframe tbody tr th {\n",
       "        vertical-align: top;\n",
       "    }\n",
       "\n",
       "    .dataframe thead th {\n",
       "        text-align: right;\n",
       "    }\n",
       "</style>\n",
       "<table border=\"1\" class=\"dataframe\">\n",
       "  <thead>\n",
       "    <tr style=\"text-align: right;\">\n",
       "      <th></th>\n",
       "      <th>Name</th>\n",
       "      <th>Locality</th>\n",
       "      <th>State</th>\n",
       "      <th>Country</th>\n",
       "      <th>Latitude</th>\n",
       "      <th>Longitude</th>\n",
       "      <th>Room Type</th>\n",
       "      <th>Guest Count</th>\n",
       "      <th>Price</th>\n",
       "      <th>Ratings</th>\n",
       "      <th>state</th>\n",
       "    </tr>\n",
       "  </thead>\n",
       "  <tbody>\n",
       "    <tr>\n",
       "      <th>0</th>\n",
       "      <td>HighQ Manali / Deluxe Room</td>\n",
       "      <td>Manali</td>\n",
       "      <td>Himachal Pradesh</td>\n",
       "      <td>India</td>\n",
       "      <td>32.22330</td>\n",
       "      <td>77.18228</td>\n",
       "      <td>Room in hotel</td>\n",
       "      <td>3</td>\n",
       "      <td>8946</td>\n",
       "      <td>0</td>\n",
       "      <td>Himachal Pradesh</td>\n",
       "    </tr>\n",
       "    <tr>\n",
       "      <th>1</th>\n",
       "      <td>Highq manali / 3 BHK Cottage</td>\n",
       "      <td>Manali</td>\n",
       "      <td>Himachal Pradesh</td>\n",
       "      <td>India</td>\n",
       "      <td>32.22352</td>\n",
       "      <td>77.18152</td>\n",
       "      <td>Room in hotel</td>\n",
       "      <td>9</td>\n",
       "      <td>9124</td>\n",
       "      <td>0</td>\n",
       "      <td>Himachal Pradesh</td>\n",
       "    </tr>\n",
       "    <tr>\n",
       "      <th>2</th>\n",
       "      <td>Best view of the river from your terrace 04</td>\n",
       "      <td>Goa</td>\n",
       "      <td>Goa</td>\n",
       "      <td>India</td>\n",
       "      <td>15.50400</td>\n",
       "      <td>73.86600</td>\n",
       "      <td>Private room in home</td>\n",
       "      <td>4</td>\n",
       "      <td>9900</td>\n",
       "      <td>4.0</td>\n",
       "      <td>India</td>\n",
       "    </tr>\n",
       "    <tr>\n",
       "      <th>3</th>\n",
       "      <td>Shabashe</td>\n",
       "      <td>Bhuntar</td>\n",
       "      <td>Himachal Pradesh</td>\n",
       "      <td>India</td>\n",
       "      <td>31.88656</td>\n",
       "      <td>77.14467</td>\n",
       "      <td>Shared room in rental unit</td>\n",
       "      <td>1</td>\n",
       "      <td>8684</td>\n",
       "      <td>0</td>\n",
       "      <td>Himachal Pradesh</td>\n",
       "    </tr>\n",
       "    <tr>\n",
       "      <th>4</th>\n",
       "      <td>Luxurious Independent Studio with Wifi &amp; Kitchen</td>\n",
       "      <td>Jaipur</td>\n",
       "      <td>Rajasthan</td>\n",
       "      <td>India</td>\n",
       "      <td>26.85991</td>\n",
       "      <td>75.66909</td>\n",
       "      <td>Entire condo</td>\n",
       "      <td>1</td>\n",
       "      <td>20690</td>\n",
       "      <td>4.75</td>\n",
       "      <td>Rajasthan</td>\n",
       "    </tr>\n",
       "  </tbody>\n",
       "</table>\n",
       "</div>"
      ],
      "text/plain": [
       "                                               Name Locality  \\\n",
       "0                        HighQ Manali / Deluxe Room   Manali   \n",
       "1                      Highq manali / 3 BHK Cottage   Manali   \n",
       "2       Best view of the river from your terrace 04      Goa   \n",
       "3                                          Shabashe  Bhuntar   \n",
       "4  Luxurious Independent Studio with Wifi & Kitchen   Jaipur   \n",
       "\n",
       "              State Country  Latitude  Longitude                   Room Type  \\\n",
       "0  Himachal Pradesh   India  32.22330   77.18228               Room in hotel   \n",
       "1  Himachal Pradesh   India  32.22352   77.18152               Room in hotel   \n",
       "2               Goa   India  15.50400   73.86600        Private room in home   \n",
       "3  Himachal Pradesh   India  31.88656   77.14467  Shared room in rental unit   \n",
       "4         Rajasthan   India  26.85991   75.66909                Entire condo   \n",
       "\n",
       "   Guest Count  Price Ratings             state  \n",
       "0            3   8946       0  Himachal Pradesh  \n",
       "1            9   9124       0  Himachal Pradesh  \n",
       "2            4   9900     4.0             India  \n",
       "3            1   8684       0  Himachal Pradesh  \n",
       "4            1  20690    4.75         Rajasthan  "
      ]
     },
     "execution_count": 157,
     "metadata": {},
     "output_type": "execute_result"
    }
   ],
   "source": [
    "listings.head()"
   ]
  },
  {
   "cell_type": "code",
   "execution_count": 161,
   "id": "f91dd1d4-9bb8-47d1-8963-edcc785665bb",
   "metadata": {},
   "outputs": [],
   "source": [
    "#there is a bug,there is a 'state' column which will be rectified in this step\n",
    "listings.drop('state', axis=1, inplace=True)"
   ]
  },
  {
   "cell_type": "code",
   "execution_count": 163,
   "id": "fd1f1d1b-58ab-4974-a623-7b9c9eb3d014",
   "metadata": {},
   "outputs": [
    {
     "data": {
      "text/html": [
       "<div>\n",
       "<style scoped>\n",
       "    .dataframe tbody tr th:only-of-type {\n",
       "        vertical-align: middle;\n",
       "    }\n",
       "\n",
       "    .dataframe tbody tr th {\n",
       "        vertical-align: top;\n",
       "    }\n",
       "\n",
       "    .dataframe thead th {\n",
       "        text-align: right;\n",
       "    }\n",
       "</style>\n",
       "<table border=\"1\" class=\"dataframe\">\n",
       "  <thead>\n",
       "    <tr style=\"text-align: right;\">\n",
       "      <th></th>\n",
       "      <th>Name</th>\n",
       "      <th>Locality</th>\n",
       "      <th>State</th>\n",
       "      <th>Country</th>\n",
       "      <th>Latitude</th>\n",
       "      <th>Longitude</th>\n",
       "      <th>Room Type</th>\n",
       "      <th>Guest Count</th>\n",
       "      <th>Price</th>\n",
       "      <th>Ratings</th>\n",
       "    </tr>\n",
       "  </thead>\n",
       "  <tbody>\n",
       "    <tr>\n",
       "      <th>0</th>\n",
       "      <td>HighQ Manali / Deluxe Room</td>\n",
       "      <td>Manali</td>\n",
       "      <td>Himachal Pradesh</td>\n",
       "      <td>India</td>\n",
       "      <td>32.22330</td>\n",
       "      <td>77.18228</td>\n",
       "      <td>Room in hotel</td>\n",
       "      <td>3</td>\n",
       "      <td>8946</td>\n",
       "      <td>0</td>\n",
       "    </tr>\n",
       "    <tr>\n",
       "      <th>1</th>\n",
       "      <td>Highq manali / 3 BHK Cottage</td>\n",
       "      <td>Manali</td>\n",
       "      <td>Himachal Pradesh</td>\n",
       "      <td>India</td>\n",
       "      <td>32.22352</td>\n",
       "      <td>77.18152</td>\n",
       "      <td>Room in hotel</td>\n",
       "      <td>9</td>\n",
       "      <td>9124</td>\n",
       "      <td>0</td>\n",
       "    </tr>\n",
       "    <tr>\n",
       "      <th>2</th>\n",
       "      <td>Best view of the river from your terrace 04</td>\n",
       "      <td>Goa</td>\n",
       "      <td>Goa</td>\n",
       "      <td>India</td>\n",
       "      <td>15.50400</td>\n",
       "      <td>73.86600</td>\n",
       "      <td>Private room in home</td>\n",
       "      <td>4</td>\n",
       "      <td>9900</td>\n",
       "      <td>4.0</td>\n",
       "    </tr>\n",
       "    <tr>\n",
       "      <th>3</th>\n",
       "      <td>Shabashe</td>\n",
       "      <td>Bhuntar</td>\n",
       "      <td>Himachal Pradesh</td>\n",
       "      <td>India</td>\n",
       "      <td>31.88656</td>\n",
       "      <td>77.14467</td>\n",
       "      <td>Shared room in rental unit</td>\n",
       "      <td>1</td>\n",
       "      <td>8684</td>\n",
       "      <td>0</td>\n",
       "    </tr>\n",
       "    <tr>\n",
       "      <th>4</th>\n",
       "      <td>Luxurious Independent Studio with Wifi &amp; Kitchen</td>\n",
       "      <td>Jaipur</td>\n",
       "      <td>Rajasthan</td>\n",
       "      <td>India</td>\n",
       "      <td>26.85991</td>\n",
       "      <td>75.66909</td>\n",
       "      <td>Entire condo</td>\n",
       "      <td>1</td>\n",
       "      <td>20690</td>\n",
       "      <td>4.75</td>\n",
       "    </tr>\n",
       "  </tbody>\n",
       "</table>\n",
       "</div>"
      ],
      "text/plain": [
       "                                               Name Locality  \\\n",
       "0                        HighQ Manali / Deluxe Room   Manali   \n",
       "1                      Highq manali / 3 BHK Cottage   Manali   \n",
       "2       Best view of the river from your terrace 04      Goa   \n",
       "3                                          Shabashe  Bhuntar   \n",
       "4  Luxurious Independent Studio with Wifi & Kitchen   Jaipur   \n",
       "\n",
       "              State Country  Latitude  Longitude                   Room Type  \\\n",
       "0  Himachal Pradesh   India  32.22330   77.18228               Room in hotel   \n",
       "1  Himachal Pradesh   India  32.22352   77.18152               Room in hotel   \n",
       "2               Goa   India  15.50400   73.86600        Private room in home   \n",
       "3  Himachal Pradesh   India  31.88656   77.14467  Shared room in rental unit   \n",
       "4         Rajasthan   India  26.85991   75.66909                Entire condo   \n",
       "\n",
       "   Guest Count  Price Ratings  \n",
       "0            3   8946       0  \n",
       "1            9   9124       0  \n",
       "2            4   9900     4.0  \n",
       "3            1   8684       0  \n",
       "4            1  20690    4.75  "
      ]
     },
     "execution_count": 163,
     "metadata": {},
     "output_type": "execute_result"
    }
   ],
   "source": [
    "listings.head() #rectified"
   ]
  },
  {
   "cell_type": "code",
   "execution_count": 167,
   "id": "6e635d31-d686-4891-b8bc-e8a88ae7e8c5",
   "metadata": {},
   "outputs": [
    {
     "data": {
      "text/plain": [
       "Name           0\n",
       "Locality       0\n",
       "State          1\n",
       "Country        0\n",
       "Latitude       0\n",
       "Longitude      0\n",
       "Room Type      0\n",
       "Guest Count    0\n",
       "Price          0\n",
       "Ratings        0\n",
       "dtype: int64"
      ]
     },
     "execution_count": 167,
     "metadata": {},
     "output_type": "execute_result"
    }
   ],
   "source": [
    "listings.isnull().sum()  #Sorting the null value"
   ]
  },
  {
   "cell_type": "code",
   "execution_count": null,
   "id": "919f36ac-001b-486b-97e4-f6cf8e17ee05",
   "metadata": {},
   "outputs": [],
   "source": []
  },
  {
   "cell_type": "code",
   "execution_count": 169,
   "id": "e855e343-bcec-4b7d-a401-2df540b39023",
   "metadata": {},
   "outputs": [],
   "source": [
    "null_state=listings[listings['State'].isna() | listings['State'].eq('')]"
   ]
  },
  {
   "cell_type": "code",
   "execution_count": 171,
   "id": "0b6a8208-6b39-4089-8905-0c9094bb5ec2",
   "metadata": {},
   "outputs": [
    {
     "data": {
      "text/html": [
       "<div>\n",
       "<style scoped>\n",
       "    .dataframe tbody tr th:only-of-type {\n",
       "        vertical-align: middle;\n",
       "    }\n",
       "\n",
       "    .dataframe tbody tr th {\n",
       "        vertical-align: top;\n",
       "    }\n",
       "\n",
       "    .dataframe thead th {\n",
       "        text-align: right;\n",
       "    }\n",
       "</style>\n",
       "<table border=\"1\" class=\"dataframe\">\n",
       "  <thead>\n",
       "    <tr style=\"text-align: right;\">\n",
       "      <th></th>\n",
       "      <th>Name</th>\n",
       "      <th>Locality</th>\n",
       "      <th>State</th>\n",
       "      <th>Country</th>\n",
       "      <th>Latitude</th>\n",
       "      <th>Longitude</th>\n",
       "      <th>Room Type</th>\n",
       "      <th>Guest Count</th>\n",
       "      <th>Price</th>\n",
       "      <th>Ratings</th>\n",
       "    </tr>\n",
       "  </thead>\n",
       "  <tbody>\n",
       "    <tr>\n",
       "      <th>101</th>\n",
       "      <td>Eternia Villa | Exclusive Pool | Modernised | ...</td>\n",
       "      <td>India</td>\n",
       "      <td>None</td>\n",
       "      <td>India</td>\n",
       "      <td>15.50182</td>\n",
       "      <td>73.81186</td>\n",
       "      <td>Entire villa</td>\n",
       "      <td>14</td>\n",
       "      <td>3007</td>\n",
       "      <td>0</td>\n",
       "    </tr>\n",
       "  </tbody>\n",
       "</table>\n",
       "</div>"
      ],
      "text/plain": [
       "                                                  Name Locality State Country  \\\n",
       "101  Eternia Villa | Exclusive Pool | Modernised | ...    India  None   India   \n",
       "\n",
       "     Latitude  Longitude     Room Type  Guest Count  Price Ratings  \n",
       "101  15.50182   73.81186  Entire villa           14   3007       0  "
      ]
     },
     "execution_count": 171,
     "metadata": {},
     "output_type": "execute_result"
    }
   ],
   "source": [
    "null_state"
   ]
  },
  {
   "cell_type": "code",
   "execution_count": null,
   "id": "f1f2746a-d6cb-4c8f-87bd-e288cbc03b23",
   "metadata": {},
   "outputs": [],
   "source": [
    "#based on google search it is located in locality of Reis Magos in state of Goa"
   ]
  },
  {
   "cell_type": "code",
   "execution_count": 183,
   "id": "807665a7-e106-4f26-8c7c-84f40540dafb",
   "metadata": {},
   "outputs": [],
   "source": [
    "listings.fillna({'State':'Goa'}, inplace=True)"
   ]
  },
  {
   "cell_type": "code",
   "execution_count": 187,
   "id": "71959c2b-5beb-492f-9de0-282df9e60139",
   "metadata": {},
   "outputs": [],
   "source": [
    "listings.loc[listings['Locality'] == 'India', 'Locality'] = 'Goa'"
   ]
  },
  {
   "cell_type": "code",
   "execution_count": 189,
   "id": "ab7cdf6a-881e-456a-8da1-9e24a60af42d",
   "metadata": {},
   "outputs": [
    {
     "data": {
      "text/html": [
       "<div>\n",
       "<style scoped>\n",
       "    .dataframe tbody tr th:only-of-type {\n",
       "        vertical-align: middle;\n",
       "    }\n",
       "\n",
       "    .dataframe tbody tr th {\n",
       "        vertical-align: top;\n",
       "    }\n",
       "\n",
       "    .dataframe thead th {\n",
       "        text-align: right;\n",
       "    }\n",
       "</style>\n",
       "<table border=\"1\" class=\"dataframe\">\n",
       "  <thead>\n",
       "    <tr style=\"text-align: right;\">\n",
       "      <th></th>\n",
       "      <th>Name</th>\n",
       "      <th>Locality</th>\n",
       "      <th>State</th>\n",
       "      <th>Country</th>\n",
       "      <th>Latitude</th>\n",
       "      <th>Longitude</th>\n",
       "      <th>Room Type</th>\n",
       "      <th>Guest Count</th>\n",
       "      <th>Price</th>\n",
       "      <th>Ratings</th>\n",
       "    </tr>\n",
       "  </thead>\n",
       "  <tbody>\n",
       "    <tr>\n",
       "      <th>101</th>\n",
       "      <td>Eternia Villa | Exclusive Pool | Modernised | ...</td>\n",
       "      <td>India</td>\n",
       "      <td>Goa</td>\n",
       "      <td>India</td>\n",
       "      <td>15.50182</td>\n",
       "      <td>73.81186</td>\n",
       "      <td>Entire villa</td>\n",
       "      <td>14</td>\n",
       "      <td>3007</td>\n",
       "      <td>0</td>\n",
       "    </tr>\n",
       "  </tbody>\n",
       "</table>\n",
       "</div>"
      ],
      "text/plain": [
       "                                                  Name Locality State Country  \\\n",
       "101  Eternia Villa | Exclusive Pool | Modernised | ...    India   Goa   India   \n",
       "\n",
       "     Latitude  Longitude     Room Type  Guest Count  Price Ratings  \n",
       "101  15.50182   73.81186  Entire villa           14   3007       0  "
      ]
     },
     "execution_count": 189,
     "metadata": {},
     "output_type": "execute_result"
    }
   ],
   "source": [
    "null_state"
   ]
  },
  {
   "cell_type": "code",
   "execution_count": 191,
   "id": "307c7f01-4b71-4cba-8104-9e587490a69e",
   "metadata": {},
   "outputs": [
    {
     "data": {
      "text/plain": [
       "Name           0\n",
       "Locality       0\n",
       "State          0\n",
       "Country        0\n",
       "Latitude       0\n",
       "Longitude      0\n",
       "Room Type      0\n",
       "Guest Count    0\n",
       "Price          0\n",
       "Ratings        0\n",
       "dtype: int64"
      ]
     },
     "execution_count": 191,
     "metadata": {},
     "output_type": "execute_result"
    }
   ],
   "source": [
    "listings.isnull().sum()  #Sorting the null value"
   ]
  },
  {
   "cell_type": "code",
   "execution_count": null,
   "id": "7471e4eb-8932-4877-b877-61a67892e1db",
   "metadata": {},
   "outputs": [],
   "source": [
    "#null value is completely removed from the data frame"
   ]
  },
  {
   "cell_type": "code",
   "execution_count": 196,
   "id": "07eb74d6-29f4-4ef0-99b9-a6622f07e9f3",
   "metadata": {},
   "outputs": [
    {
     "name": "stdout",
     "output_type": "stream",
     "text": [
      "Setup Complete\n"
     ]
    }
   ],
   "source": [
    "#CLEANSED DATA\n",
    "import pandas as pd\n",
    "pd.plotting.register_matplotlib_converters()\n",
    "import matplotlib.pyplot as plt\n",
    "%matplotlib inline\n",
    "import seaborn as sns\n",
    "print(\"Setup Complete\")"
   ]
  },
  {
   "cell_type": "code",
   "execution_count": 200,
   "id": "e1528871-6e51-4dfb-9e4a-083b66b9dc4f",
   "metadata": {},
   "outputs": [
    {
     "data": {
      "text/html": [
       "<a href='final_data.csv' target='_blank'>final_data.csv</a><br>"
      ],
      "text/plain": [
       "C:\\Users\\Deepthi\\final_data.csv"
      ]
     },
     "execution_count": 200,
     "metadata": {},
     "output_type": "execute_result"
    }
   ],
   "source": [
    "#downloading final data\n",
    "listings.to_csv('final_data.csv', index=False)\n",
    "\n",
    "from IPython.display import FileLink\n",
    "FileLink('final_data.csv')"
   ]
  },
  {
   "cell_type": "code",
   "execution_count": null,
   "id": "c092e2c0-fd8e-499d-9f39-2461739af5db",
   "metadata": {},
   "outputs": [],
   "source": [
    "#DATA ANALYSIS USING PYTHON"
   ]
  },
  {
   "cell_type": "code",
   "execution_count": 210,
   "id": "ec3a0c1f-3e28-4248-b9ac-08799f60b2c7",
   "metadata": {},
   "outputs": [
    {
     "data": {
      "image/png": "[encoded data removed]",
      "text/plain": [
       "<Figure size 1000x600 with 1 Axes>"
      ]
     },
     "metadata": {},
     "output_type": "display_data"
    }
   ],
   "source": [
    "#PLOTTING NUMBER OF GUESTS VS PRICE\n",
    "plt.figure(figsize=(10, 6))\n",
    "plt.scatter(listings['Guest Count'], listings['Price'], alpha=0.5)\n",
    "plt.title('Guest Count vs. Price')\n",
    "plt.xlabel('Guest Count')\n",
    "plt.ylabel('Price')\n",
    "plt.show()"
   ]
  },
  {
   "cell_type": "code",
   "execution_count": null,
   "id": "5ff3f6ef-4cf3-4530-b5bf-a5f6619e5996",
   "metadata": {},
   "outputs": [],
   "source": [
    "#State wise Analysis"
   ]
  },
  {
   "cell_type": "code",
   "execution_count": 240,
   "id": "c82b0812-0103-46e8-af4f-908ab3024457",
   "metadata": {},
   "outputs": [
    {
     "data": {
      "text/plain": [
       "State\n",
       "Goa                            170\n",
       "Maharashtra                    101\n",
       "Rajasthan                       39\n",
       "Uttarakhand                     34\n",
       "Kerala                          26\n",
       "Himachal Pradesh                25\n",
       "Tamil Nadu                      23\n",
       "Delhi                           23\n",
       "Karnataka                       17\n",
       "Haryana                         16\n",
       "Uttar Pradesh                    4\n",
       "Gujarat                          3\n",
       "Punjab                           3\n",
       "Andhra Pradesh                   3\n",
       "West Bengal                      2\n",
       "Puducherry                       2\n",
       "Madhya Pradesh                   2\n",
       "Jammu and Kashmir                2\n",
       "Bihar                            1\n",
       "Andaman and Nicobar Islands      1\n",
       "Ladakh                           1\n",
       "Telangana                        1\n",
       "Name: count, dtype: int64"
      ]
     },
     "execution_count": 240,
     "metadata": {},
     "output_type": "execute_result"
    }
   ],
   "source": [
    "statewise_counts"
   ]
  },
  {
   "cell_type": "code",
   "execution_count": null,
   "id": "538b740c-5aec-4d02-a8b4-3e7d11410fbf",
   "metadata": {},
   "outputs": [],
   "source": []
  },
  {
   "cell_type": "code",
   "execution_count": 218,
   "id": "89835979-4e23-4a41-99fe-99ba1991bd6d",
   "metadata": {},
   "outputs": [],
   "source": [
    "state_graph= pd.DataFrame({'states': statewise_counts.index, 'counts': statewise_counts.values})\n",
    "states = list(state_graph['states'])\n",
    "counts = list(state_graph['counts'])\n",
    "\n",
    "\n"
   ]
  },
  {
   "cell_type": "code",
   "execution_count": 220,
   "id": "4f5b1a5d-cff6-456b-96b8-34223f9b36a5",
   "metadata": {},
   "outputs": [
    {
     "data": {
      "image/png": "[encoded data removed]",
      "text/plain": [
       "<Figure size 1000x600 with 1 Axes>"
      ]
     },
     "metadata": {},
     "output_type": "display_data"
    }
   ],
   "source": [
    "colors = ['blue', 'green', 'red', 'purple', 'orange', 'yellow', 'cyan', 'magenta', 'pink', 'brown']\n",
    "plt.figure(figsize=(10, 6))\n",
    "bars=plt.bar(states, counts,color=colors)\n",
    "plt.title('Number of Airbnb stays in each state')\n",
    "plt.xlabel('States')\n",
    "plt.ylabel('Airbnb stays')\n",
    "plt.xticks(rotation=90)\n",
    "for bar, count in zip(bars, counts):\n",
    "    plt.text(bar.get_x() + bar.get_width() / 2, bar.get_height(), count,\n",
    "             ha='center', va='bottom')\n",
    "plt.show()"
   ]
  },
  {
   "cell_type": "code",
   "execution_count": 230,
   "id": "36e90e72-5456-4edc-957a-955682732274",
   "metadata": {},
   "outputs": [],
   "source": [
    "listings['Ratings'] = pd.to_numeric(listings['Ratings'], errors='coerce')\n",
    "avg_rating_state = listings[listings['Ratings'] != 0].groupby('State')['Ratings'].mean()"
   ]
  },
  {
   "cell_type": "code",
   "execution_count": 238,
   "id": "b33b490b-e0f5-42e9-8955-db3d9c63bbd4",
   "metadata": {},
   "outputs": [
    {
     "data": {
      "text/plain": [
       "State\n",
       "Delhi               4.760000\n",
       "Goa                 4.668736\n",
       "Gujarat             4.620000\n",
       "Haryana             4.565000\n",
       "Himachal Pradesh    4.796000\n",
       "Karnataka           4.587143\n",
       "Kerala              4.717143\n",
       "Maharashtra         4.588158\n",
       "Punjab              4.500000\n",
       "Rajasthan           4.578000\n",
       "Tamil Nadu          4.762727\n",
       "Telangana           5.000000\n",
       "Uttar Pradesh       4.785000\n",
       "Uttarakhand         4.660909\n",
       "West Bengal         4.435000\n",
       "Name: Ratings, dtype: float64"
      ]
     },
     "execution_count": 238,
     "metadata": {},
     "output_type": "execute_result"
    }
   ],
   "source": [
    "avg_rating_state"
   ]
  },
  {
   "cell_type": "code",
   "execution_count": 232,
   "id": "134c7aa9-a678-401d-9be2-6880ca89ea17",
   "metadata": {},
   "outputs": [
    {
     "data": {
      "image/png": "[encoded data removed]",
      "text/plain": [
       "<Figure size 600x400 with 1 Axes>"
      ]
     },
     "metadata": {},
     "output_type": "display_data"
    }
   ],
   "source": [
    "avg_rating_state.plot(kind='bar', figsize=(6, 4))\n",
    "plt.xlabel('Average Ratings')\n",
    "plt.ylabel('State')\n",
    "plt.title('State-wise Average Rating (Non-zero values)')\n",
    "plt.show()"
   ]
  },
  {
   "cell_type": "code",
   "execution_count": 234,
   "id": "cfe244c4-7d1f-4a31-9e11-0c0dc23f3da6",
   "metadata": {},
   "outputs": [
    {
     "data": {
      "text/plain": [
       "State\n",
       "Delhi               1374.565217\n",
       "Goa                  715.181287\n",
       "Haryana              653.062500\n",
       "Himachal Pradesh    2277.840000\n",
       "Karnataka            677.176471\n",
       "Kerala               539.538462\n",
       "Maharashtra          634.950495\n",
       "Rajasthan           1238.461538\n",
       "Tamil Nadu           487.478261\n",
       "Uttar Pradesh        485.000000\n",
       "Uttarakhand          812.235294\n",
       "Name: Price, dtype: float64"
      ]
     },
     "execution_count": 234,
     "metadata": {},
     "output_type": "execute_result"
    }
   ],
   "source": [
    "filtered_listing = listings.groupby('State').filter(lambda x: x['Price'].count() >= 4)\n",
    "pricing_state = filtered_listing.groupby('State')['Price'].mean()\n",
    "pricing_state"
   ]
  },
  {
   "cell_type": "code",
   "execution_count": 236,
   "id": "3c904004-b0f3-4138-94db-d346e624ea0b",
   "metadata": {},
   "outputs": [
    {
     "data": {
      "image/png": "[encoded data removed]",
      "text/plain": [
       "<Figure size 600x400 with 1 Axes>"
      ]
     },
     "metadata": {},
     "output_type": "display_data"
    }
   ],
   "source": [
    "pricing_state.plot(kind='bar', figsize=(6, 4))\n",
    "\n",
    "plt.xlabel('Average Price')\n",
    "plt.ylabel('State')\n",
    "plt.title('State-wise Average Price')\n",
    "plt.show()\n"
   ]
  },
  {
   "cell_type": "code",
   "execution_count": null,
   "id": "02d15f1d-f7ad-4bd2-9e5a-77c06a98598b",
   "metadata": {},
   "outputs": [],
   "source": []
  },
  {
   "cell_type": "code",
   "execution_count": null,
   "id": "cbe34eb7-c01b-429e-9ffe-aa3b03184cf6",
   "metadata": {},
   "outputs": [],
   "source": []
  },
  {
   "cell_type": "code",
   "execution_count": null,
   "id": "453098da-f96b-47eb-91ba-d83f1adb4e90",
   "metadata": {},
   "outputs": [],
   "source": []
  },
  {
   "cell_type": "code",
   "execution_count": null,
   "id": "6b29b5c5-502e-47ce-8da5-e2716939e29f",
   "metadata": {},
   "outputs": [],
   "source": []
  },
  {
   "cell_type": "code",
   "execution_count": null,
   "id": "9310f85a-002b-4a3a-b832-7c519d5b9da1",
   "metadata": {},
   "outputs": [],
   "source": []
  },
  {
   "cell_type": "code",
   "execution_count": null,
   "id": "666504c4-70c0-4367-a52c-d6c116349f1c",
   "metadata": {},
   "outputs": [],
   "source": []
  },
  {
   "cell_type": "code",
   "execution_count": 206,
   "id": "31d59b47-7f34-4c2f-bf1d-ee406468863f",
   "metadata": {},
   "outputs": [
    {
     "ename": "ModuleNotFoundError",
     "evalue": "No module named 'folium'",
     "output_type": "error",
     "traceback": [
      "\u001b[1;31m---------------------------------------------------------------------------\u001b[0m",
      "\u001b[1;31mModuleNotFoundError\u001b[0m                       Traceback (most recent call last)",
      "Cell \u001b[1;32mIn[206], line 1\u001b[0m\n\u001b[1;32m----> 1\u001b[0m \u001b[38;5;28;01mimport\u001b[39;00m \u001b[38;5;21;01mfolium\u001b[39;00m\n\u001b[0;32m      2\u001b[0m \u001b[38;5;28;01mfrom\u001b[39;00m \u001b[38;5;21;01mfolium\u001b[39;00m\u001b[38;5;21;01m.\u001b[39;00m\u001b[38;5;21;01mplugins\u001b[39;00m \u001b[38;5;28;01mimport\u001b[39;00m HeatMap\n\u001b[0;32m      3\u001b[0m map_india \u001b[38;5;241m=\u001b[39m folium\u001b[38;5;241m.\u001b[39mMap(location\u001b[38;5;241m=\u001b[39m[\u001b[38;5;241m20.5937\u001b[39m, \u001b[38;5;241m78.9629\u001b[39m], zoom_start\u001b[38;5;241m=\u001b[39m\u001b[38;5;241m5\u001b[39m, scrollWheelZoom\u001b[38;5;241m=\u001b[39m\u001b[38;5;28;01mFalse\u001b[39;00m)\n",
      "\u001b[1;31mModuleNotFoundError\u001b[0m: No module named 'folium'"
     ]
    }
   ],
   "source": [
    "import folium\n",
    "from folium.plugins import HeatMap\n",
    "map_india = folium.Map(location=[20.5937, 78.9629], zoom_start=5, scrollWheelZoom=False)\n",
    "heat_data = listings[['Latitude', 'Longitude', 'Price']].values.tolist()\n",
    "HeatMap(heat_data, radius=10).add_to(map_india)\n",
    "map_india.fit_bounds([[6.5, 68.1], [35.7, 97.4]])\n",
    "\n",
    "map_india"
   ]
  },
  {
   "cell_type": "code",
   "execution_count": null,
   "id": "11a02d7e-38e1-474d-a848-df49afcac232",
   "metadata": {},
   "outputs": [],
   "source": []
  },
  {
   "cell_type": "code",
   "execution_count": null,
   "id": "c29fc55d-1414-486a-91b2-c3779961a2cb",
   "metadata": {},
   "outputs": [],
   "source": []
  },
  {
   "cell_type": "code",
   "execution_count": null,
   "id": "77ace656-cde5-4f77-a864-a85b593665b8",
   "metadata": {},
   "outputs": [],
   "source": []
  },
  {
   "cell_type": "code",
   "execution_count": null,
   "id": "b52a6d97-9a29-4e90-81a8-37bb368d1d56",
   "metadata": {},
   "outputs": [],
   "source": []
  },
  {
   "cell_type": "code",
   "execution_count": null,
   "id": "daa0e9c0-32ad-4ade-bfc9-49778718f6d1",
   "metadata": {},
   "outputs": [],
   "source": []
  },
  {
   "cell_type": "code",
   "execution_count": null,
   "id": "1c769877-2d24-48ed-bc58-c8c7233fff34",
   "metadata": {},
   "outputs": [],
   "source": []
  },
  {
   "cell_type": "code",
   "execution_count": null,
   "id": "7e29cee5-a32b-4c60-aff9-12b58f9b31e9",
   "metadata": {},
   "outputs": [],
   "source": []
  },
  {
   "cell_type": "code",
   "execution_count": null,
   "id": "7e99e72a-dcf7-47d0-ad54-00221fc00239",
   "metadata": {},
   "outputs": [],
   "source": []
  },
  {
   "cell_type": "code",
   "execution_count": null,
   "id": "d855b7cc-badc-466b-a632-0dab0500e456",
   "metadata": {},
   "outputs": [],
   "source": []
  },
  {
   "cell_type": "code",
   "execution_count": null,
   "id": "1aea76b5-8580-445b-93a8-d68611883737",
   "metadata": {},
   "outputs": [],
   "source": []
  },
  {
   "cell_type": "code",
   "execution_count": null,
   "id": "4d130fee-fe9b-484d-abb2-6e5309e964e9",
   "metadata": {},
   "outputs": [],
   "source": []
  },
  {
   "cell_type": "code",
   "execution_count": null,
   "id": "b1269fb4-b20c-40f7-9313-6c8f0a19b566",
   "metadata": {},
   "outputs": [],
   "source": []
  },
  {
   "cell_type": "code",
   "execution_count": null,
   "id": "ac9e159d-705c-466c-ac34-777794a4b8ac",
   "metadata": {},
   "outputs": [],
   "source": []
  },
  {
   "cell_type": "code",
   "execution_count": null,
   "id": "0b5019c7-e6d5-4324-9f35-52dce43dfa89",
   "metadata": {},
   "outputs": [],
   "source": []
  },
  {
   "cell_type": "code",
   "execution_count": null,
   "id": "9f2d3831-34ff-480a-9718-820be2f90451",
   "metadata": {},
   "outputs": [],
   "source": []
  },
  {
   "cell_type": "code",
   "execution_count": null,
   "id": "b163a40a-f67c-497e-8cb7-74aa617fc327",
   "metadata": {},
   "outputs": [],
   "source": []
  },
  {
   "cell_type": "code",
   "execution_count": null,
   "id": "7e084a0f-1e45-4aee-b8bb-decb71e26faf",
   "metadata": {},
   "outputs": [],
   "source": []
  },
  {
   "cell_type": "code",
   "execution_count": null,
   "id": "52a8f156-7712-421d-9731-1026d49bf64f",
   "metadata": {},
   "outputs": [],
   "source": []
  },
  {
   "cell_type": "code",
   "execution_count": null,
   "id": "aa524d87-8f32-4084-a8eb-6143cd52fac6",
   "metadata": {},
   "outputs": [],
   "source": []
  },
  {
   "cell_type": "code",
   "execution_count": null,
   "id": "9a4effbb-de84-474b-8623-fe4bdbd13b0b",
   "metadata": {},
   "outputs": [],
   "source": []
  },
  {
   "cell_type": "code",
   "execution_count": null,
   "id": "4c834b79-11ff-4c3e-80f3-611f7a61a9c5",
   "metadata": {},
   "outputs": [],
   "source": []
  },
  {
   "cell_type": "code",
   "execution_count": null,
   "id": "69df697a-1266-48d0-a5d0-4756ac43928b",
   "metadata": {},
   "outputs": [],
   "source": []
  },
  {
   "cell_type": "code",
   "execution_count": null,
   "id": "586b351e-f587-4c3e-afbe-c8a71b370637",
   "metadata": {},
   "outputs": [],
   "source": []
  },
  {
   "cell_type": "code",
   "execution_count": null,
   "id": "16863a93-0939-4038-ae55-45e846e80fec",
   "metadata": {},
   "outputs": [],
   "source": []
  },
  {
   "cell_type": "code",
   "execution_count": null,
   "id": "b2f27ee7-42bb-476c-99e1-0f86a0db86a7",
   "metadata": {},
   "outputs": [],
   "source": []
  },
  {
   "cell_type": "code",
   "execution_count": null,
   "id": "a9a1f74a-ff5c-4abe-a9c2-fda08d563e01",
   "metadata": {},
   "outputs": [],
   "source": []
  },
  {
   "cell_type": "code",
   "execution_count": null,
   "id": "49b272b8-4f55-48c3-bacf-12aed57ec733",
   "metadata": {},
   "outputs": [],
   "source": []
  },
  {
   "cell_type": "code",
   "execution_count": null,
   "id": "e4c9f29b-fc00-48ea-afac-cbc0c9bf8ca7",
   "metadata": {},
   "outputs": [],
   "source": []
  },
  {
   "cell_type": "code",
   "execution_count": null,
   "id": "d65acb96-a33d-4851-98f3-00db28be793e",
   "metadata": {},
   "outputs": [],
   "source": []
  },
  {
   "cell_type": "code",
   "execution_count": null,
   "id": "861851d0-8eec-400c-aa60-426d8e1e54fe",
   "metadata": {},
   "outputs": [],
   "source": []
  }
 ],
 "metadata": {
  "kernelspec": {
   "display_name": "Python 3 (ipykernel)",
   "language": "python",
   "name": "python3"
  },
  "language_info": {
   "codemirror_mode": {
    "name": "ipython",
    "version": 3
   },
   "file_extension": ".py",
   "mimetype": "text/x-python",
   "name": "python",
   "nbconvert_exporter": "python",
   "pygments_lexer": "ipython3",
   "version": "3.12.4"
  }
 },
 "nbformat": 4,
 "nbformat_minor": 5
}
